{
  "cells": [
    {
      "cell_type": "markdown",
      "id": "1aad4a87-005f-4023-8f41-66e32a9b2ccb",
      "metadata": {
        "id": "1aad4a87-005f-4023-8f41-66e32a9b2ccb"
      },
      "source": [
        "## Model\n",
        "Neurips Paper about ConvLSTM: https://proceedings.neurips.cc/paper_files/paper/2015/file/07563a3fe3bbe7e3ba84431ad9d055af-Paper.pdf\n",
        "\n",
        "Enter a transformer research paper here..\n",
        "\n"
      ]
    },
    {
      "cell_type": "code",
      "source": [
        "# faster way to get the data since manual uplaod was taking way too long\n",
        "!wget -c https://database.lichess.org/lichess_db_puzzle.csv.zst\n",
        "!apt-get -qq update && apt-get -qq install -y zstd\n",
        "!zstd -d lichess_db_puzzle.csv.zst -o lichess_db_puzzle.csv"
      ],
      "metadata": {
        "colab": {
          "base_uri": "https://localhost:8080/"
        },
        "id": "NGWlNWWDAXq3",
        "outputId": "d9cdeffa-b57f-4b0d-bf08-a89d3e0f4e6f"
      },
      "id": "NGWlNWWDAXq3",
      "execution_count": 3,
      "outputs": [
        {
          "output_type": "stream",
          "name": "stdout",
          "text": [
            "--2025-05-01 04:47:29--  https://database.lichess.org/lichess_db_puzzle.csv.zst\n",
            "Resolving database.lichess.org (database.lichess.org)... 141.95.66.62, 2001:41d0:700:5e3e::\n",
            "Connecting to database.lichess.org (database.lichess.org)|141.95.66.62|:443... connected.\n",
            "HTTP request sent, awaiting response... 200 OK\n",
            "Length: 247684364 (236M) [application/octet-stream]\n",
            "Saving to: ‘lichess_db_puzzle.csv.zst’\n",
            "\n",
            "lichess_db_puzzle.c 100%[===================>] 236.21M  19.1MB/s    in 14s     \n",
            "\n",
            "2025-05-01 04:47:44 (17.0 MB/s) - ‘lichess_db_puzzle.csv.zst’ saved [247684364/247684364]\n",
            "\n",
            "W: Skipping acquire of configured file 'main/source/Sources' as repository 'https://r2u.stat.illinois.edu/ubuntu jammy InRelease' does not seem to provide it (sources.list entry misspelt?)\n",
            "lichess_db_puzzle.csv.zst: 911966229 bytes \n"
          ]
        }
      ]
    },
    {
      "cell_type": "code",
      "source": [
        "pip install chess"
      ],
      "metadata": {
        "colab": {
          "base_uri": "https://localhost:8080/"
        },
        "id": "LTDhk2Ld7Wpu",
        "outputId": "8f46d4b1-f50a-4304-8ac7-5f022354978d"
      },
      "id": "LTDhk2Ld7Wpu",
      "execution_count": 4,
      "outputs": [
        {
          "output_type": "stream",
          "name": "stdout",
          "text": [
            "Collecting chess\n",
            "  Downloading chess-1.11.2.tar.gz (6.1 MB)\n",
            "\u001b[?25l     \u001b[90m━━━━━━━━━━━━━━━━━━━━━━━━━━━━━━━━━━━━━━━━\u001b[0m \u001b[32m0.0/6.1 MB\u001b[0m \u001b[31m?\u001b[0m eta \u001b[36m-:--:--\u001b[0m\r\u001b[2K     \u001b[91m━━━━━━━━\u001b[0m\u001b[90m╺\u001b[0m\u001b[90m━━━━━━━━━━━━━━━━━━━━━━━━━━━━━━━\u001b[0m \u001b[32m1.3/6.1 MB\u001b[0m \u001b[31m39.2 MB/s\u001b[0m eta \u001b[36m0:00:01\u001b[0m\r\u001b[2K     \u001b[91m━━━━━━━━━━━━━━━━━━━━━━━━━━━━━━━━━━━━━━━\u001b[0m\u001b[91m╸\u001b[0m \u001b[32m6.1/6.1 MB\u001b[0m \u001b[31m110.8 MB/s\u001b[0m eta \u001b[36m0:00:01\u001b[0m\r\u001b[2K     \u001b[90m━━━━━━━━━━━━━━━━━━━━━━━━━━━━━━━━━━━━━━━━\u001b[0m \u001b[32m6.1/6.1 MB\u001b[0m \u001b[31m80.1 MB/s\u001b[0m eta \u001b[36m0:00:00\u001b[0m\n",
            "\u001b[?25h  Preparing metadata (setup.py) ... \u001b[?25l\u001b[?25hdone\n",
            "Building wheels for collected packages: chess\n",
            "  Building wheel for chess (setup.py) ... \u001b[?25l\u001b[?25hdone\n",
            "  Created wheel for chess: filename=chess-1.11.2-py3-none-any.whl size=147775 sha256=0c4ee3b26873a7bf79cd08cfa716780ad2e5dc7e527ba4730939510b3a4b9940\n",
            "  Stored in directory: /root/.cache/pip/wheels/fb/5d/5c/59a62d8a695285e59ec9c1f66add6f8a9ac4152499a2be0113\n",
            "Successfully built chess\n",
            "Installing collected packages: chess\n",
            "Successfully installed chess-1.11.2\n"
          ]
        }
      ]
    },
    {
      "cell_type": "code",
      "execution_count": 5,
      "id": "7054d322-624e-41ef-85bd-6ccb87a83fa4",
      "metadata": {
        "id": "7054d322-624e-41ef-85bd-6ccb87a83fa4"
      },
      "outputs": [],
      "source": [
        "import torch\n",
        "import numpy as np\n",
        "import chess\n",
        "import chess.pgn\n",
        "import chess.engine\n",
        "import torch.nn as nn\n",
        "\n",
        "# --- FEN to Tensor Encoding (12 channels: piece type x color) ---\n",
        "piece_to_plane = {\n",
        "    'P': 0, 'N': 1, 'B': 2, 'R': 3, 'Q': 4, 'K': 5,\n",
        "    'p': 6, 'n': 7, 'b': 8, 'r': 9, 'q': 10, 'k': 11\n",
        "}\n",
        "\n",
        "def fen_to_tensor(fen):\n",
        "    board = chess.Board(fen)\n",
        "    tensor = np.zeros((12, 8, 8), dtype=np.float32)\n",
        "    for square in chess.SQUARES:\n",
        "        piece = board.piece_at(square)\n",
        "        if piece:\n",
        "            row = 7 - (square // 8)  # flip vertically to match tensor layout\n",
        "            col = square % 8\n",
        "            tensor[piece_to_plane[piece.symbol()], row, col] = 1.0\n",
        "    return torch.tensor(tensor, dtype=torch.float32)\n",
        "\n",
        "# --- Simple Feedforward Model ---\n",
        "class TwoMoveMateSolver(nn.Module):\n",
        "    def __init__(self):\n",
        "        super().__init__()\n",
        "        self.flatten = nn.Flatten()                       # 12x8x8 → 768\n",
        "        self.fc1 = nn.Linear(768, 1024)\n",
        "        self.fc2 = nn.Linear(1024, 512)\n",
        "        self.output = nn.Linear(512, 4 * 64)              # 4 softmax heads over 64 squares\n",
        "\n",
        "    def forward(self, x):\n",
        "        x = self.flatten(x)           # [B, 768]\n",
        "        x = F.relu(self.fc1(x))       # [B, 1024]\n",
        "        x = F.relu(self.fc2(x))       # [B, 512]\n",
        "        x = self.output(x)            # [B, 256]\n",
        "        x = x.view(-1, 4, 64)         # [B, 4 moves, 64-square choices]\n",
        "        return x\n"
      ]
    },
    {
      "cell_type": "code",
      "execution_count": 6,
      "id": "fad8d73c-ef46-4094-9432-fce089a72758",
      "metadata": {
        "id": "fad8d73c-ef46-4094-9432-fce089a72758"
      },
      "outputs": [],
      "source": [
        "import torch\n",
        "import torch.nn as nn\n",
        "import torch.nn.functional as F\n",
        "\n",
        "\n",
        "class BoardTransformerMateSolver(nn.Module):\n",
        "    def __init__(self,\n",
        "                 d_model: int = 128,\n",
        "                 nhead: int = 8,\n",
        "                 num_layers: int = 4,\n",
        "                 dim_feedforward: int = 256,\n",
        "                 dropout: float = 0.1):\n",
        "        super().__init__()\n",
        "\n",
        "        self.input_proj = nn.Linear(12, d_model)\n",
        "\n",
        "        self.cls_token = nn.Parameter(torch.zeros(1, 1, d_model))\n",
        "\n",
        "        self.pos_embed = nn.Parameter(torch.zeros(1, 65, d_model))\n",
        "\n",
        "        # Transformer encoder\n",
        "        encoder_layer = nn.TransformerEncoderLayer(\n",
        "            d_model=d_model,\n",
        "            nhead=nhead,\n",
        "            dim_feedforward=dim_feedforward,\n",
        "            dropout=dropout,\n",
        "            batch_first=True\n",
        "        )\n",
        "        self.encoder = nn.TransformerEncoder(encoder_layer, num_layers=num_layers)\n",
        "\n",
        "        self.head = nn.Linear(d_model, 4 * 64)\n",
        "\n",
        "        nn.init.trunc_normal_(self.pos_embed, std=0.02)\n",
        "        nn.init.trunc_normal_(self.cls_token, std=0.02)\n",
        "        nn.init.trunc_normal_(self.input_proj.weight, std=0.02)\n",
        "        nn.init.zeros_(self.input_proj.bias)\n",
        "\n",
        "    def forward(self, x):\n",
        "        B = x.size(0)\n",
        "        x = x.view(B, 12, 64).permute(0, 2, 1)\n",
        "\n",
        "        x = self.input_proj(x)\n",
        "        cls = self.cls_token.expand(B, -1, -1)\n",
        "        x = torch.cat([cls, x], dim=1)\n",
        "\n",
        "        x = x + self.pos_embed\n",
        "\n",
        "        x = self.encoder(x)\n",
        "\n",
        "        cls_out = x[:, 0]\n",
        "        logits = self.head(cls_out)\n",
        "        return logits.view(B, 4, 64)\n"
      ]
    },
    {
      "cell_type": "markdown",
      "id": "6c154606-ab63-40d3-96d6-da53a095e3c5",
      "metadata": {
        "id": "6c154606-ab63-40d3-96d6-da53a095e3c5"
      },
      "source": [
        "## Dataset"
      ]
    },
    {
      "cell_type": "code",
      "execution_count": 7,
      "id": "47775b45-4c6d-4cf8-8342-871f7614496e",
      "metadata": {
        "id": "47775b45-4c6d-4cf8-8342-871f7614496e"
      },
      "outputs": [],
      "source": [
        "import torch\n",
        "import pandas as pd\n",
        "import chess\n",
        "from torch.utils.data import Dataset\n",
        "\n",
        "class TwoMoveMateDataset(Dataset):\n",
        "    def __init__(self, csv_path):\n",
        "        self.df = pd.read_csv(csv_path)\n",
        "\n",
        "    def __len__(self):\n",
        "        return len(self.df)\n",
        "\n",
        "    def __getitem__(self, idx):\n",
        "        row = self.df.iloc[idx]\n",
        "        fen = row['fen']\n",
        "        move1 = chess.Move.from_uci(row['move1'])\n",
        "        move2 = chess.Move.from_uci(row['move2'])\n",
        "\n",
        "        # Encode board state\n",
        "        input_tensor = fen_to_tensor(fen)\n",
        "\n",
        "        # Encode moves as 4 target indices: from1, to1, from2, to2\n",
        "        label = torch.tensor([\n",
        "            move1.from_square,\n",
        "            move1.to_square,\n",
        "            move2.from_square,\n",
        "            move2.to_square\n",
        "        ], dtype=torch.long)\n",
        "\n",
        "        return input_tensor, label"
      ]
    },
    {
      "cell_type": "code",
      "execution_count": null,
      "id": "300d0bb7-14dd-4932-9075-5bd68108bf29",
      "metadata": {
        "id": "300d0bb7-14dd-4932-9075-5bd68108bf29"
      },
      "outputs": [],
      "source": [
        "# class TwoMoveMateDatasetLSTM(Dataset):\n",
        "#     def __init__(self, csv_path):\n",
        "#         self.df = pd.read_csv(csv_path)\n",
        "\n",
        "#     def __len__(self):\n",
        "#         return len(self.df)\n",
        "\n",
        "#     def __getitem__(self, idx):\n",
        "#         row = self.df.iloc[idx]\n",
        "#         fen = row['fen']\n",
        "#         move1 = chess.Move.from_uci(row['move1'])\n",
        "#         move2 = chess.Move.from_uci(row['move2'])\n",
        "\n",
        "#         # You need two board states as input:\n",
        "#         # 1. Original position\n",
        "#         # 2. After move1 is played\n",
        "\n",
        "#         board1 = chess.Board(fen)\n",
        "#         input1 = fen_to_tensor(board1.fen())\n",
        "\n",
        "#         board1.push(move1)\n",
        "#         input2 = fen_to_tensor(board1.fen())\n",
        "\n",
        "#         # Stack into a sequence: [2, C, 8, 8]\n",
        "#         input_seq = torch.stack([input1, input2], dim=0)  # [2, C, 8, 8]\n",
        "\n",
        "#         # Encode labels: [2] for two destination squares (or [2, 64] if you use from-to)\n",
        "#         label = torch.tensor([\n",
        "#             move1.to_square,\n",
        "#             move2.to_square\n",
        "#         ], dtype=torch.long)\n",
        "\n",
        "#         return input_seq, label\n"
      ]
    },
    {
      "cell_type": "markdown",
      "id": "b86515b1-3388-4009-9971-2a4f654df227",
      "metadata": {
        "id": "b86515b1-3388-4009-9971-2a4f654df227"
      },
      "source": [
        "## Train"
      ]
    },
    {
      "cell_type": "code",
      "execution_count": 13,
      "id": "1b91e4a4-80ea-49dd-b26e-8130ea95fd7e",
      "metadata": {
        "id": "1b91e4a4-80ea-49dd-b26e-8130ea95fd7e"
      },
      "outputs": [],
      "source": [
        "# --- Hyperparameters\n",
        "batch_size = 64\n",
        "epochs = 50\n",
        "lr = 3e-4"
      ]
    },
    {
      "cell_type": "code",
      "execution_count": 14,
      "id": "f819f61a-f02d-4944-b6ae-ff8d1f5c4f06",
      "metadata": {
        "id": "f819f61a-f02d-4944-b6ae-ff8d1f5c4f06"
      },
      "outputs": [],
      "source": [
        "# --- Data\n",
        "# from torch.utils.data import DataLoader\n",
        "\n",
        "# # dataset = TwoMoveMateDataset('mate_in_2_simple.csv')\n",
        "# dataset = TwoMoveMateDatasetLSTM('mate_in_2_simple.csv')\n",
        "# loader = DataLoader(dataset, batch_size=batch_size, shuffle=True)\n",
        "\n",
        "from torch.utils.data import random_split, DataLoader\n",
        "\n",
        "# Load full dataset\n",
        "dataset = TwoMoveMateDataset(\"mate_in_2_simple.csv\")\n",
        "\n",
        "# 80-20 split\n",
        "total_size = len(dataset)\n",
        "train_size = int(0.8 * total_size)\n",
        "test_size = total_size - train_size\n",
        "train_dataset, test_dataset = random_split(dataset, [train_size, test_size])\n",
        "\n",
        "# Create data loaders\n",
        "train_loader = DataLoader(train_dataset, batch_size=batch_size, shuffle=True)\n",
        "test_loader = DataLoader(test_dataset, batch_size= batch_size, shuffle=False)"
      ]
    },
    {
      "cell_type": "code",
      "execution_count": 15,
      "id": "15d1612e-24d6-4837-a9a4-cc5341f5f554",
      "metadata": {
        "id": "15d1612e-24d6-4837-a9a4-cc5341f5f554"
      },
      "outputs": [],
      "source": [
        "# --- Model and training setup\n",
        "import glob\n",
        "import os\n",
        "device = torch.device('cuda' if torch.cuda.is_available() else 'cpu')\n",
        "# model = TwoMoveMateSolver().to(device)\n",
        "model = BoardTransformerMateSolver().to(device)\n",
        "\n",
        "# checkpoint_files = glob.glob(\"convlstm_model_epoch*.pt\")\n",
        "# if checkpoint_files:\n",
        "#     latest_checkpoint = max(checkpoint_files, key=os.path.getmtime)\n",
        "\n",
        "#     model.load_state_dict(torch.load(latest_checkpoint, map_location=device))\n",
        "#     print(f\"Loaded model from {latest_checkpoint}\")\n",
        "# else:\n",
        "#     print(\"No model checkpoint found, starting from scratch.\")\n",
        "\n",
        "\n",
        "optimizer = torch.optim.Adam(model.parameters(), lr=lr)\n",
        "criterion = torch.nn.CrossEntropyLoss()"
      ]
    },
    {
      "cell_type": "code",
      "execution_count": 17,
      "id": "48206491-d425-4bb0-a23e-194b241aa4d6",
      "metadata": {
        "colab": {
          "base_uri": "https://localhost:8080/"
        },
        "id": "48206491-d425-4bb0-a23e-194b241aa4d6",
        "outputId": "b933e7db-befd-4864-b095-38e4e0ae8074"
      },
      "outputs": [
        {
          "output_type": "stream",
          "name": "stderr",
          "text": [
            "Epoch 1 [Train]: 100%|██████████| 3637/3637 [01:21<00:00, 44.51it/s]\n",
            "Epoch 1 [Test]: 100%|██████████| 910/910 [00:11<00:00, 77.17it/s]\n"
          ]
        },
        {
          "output_type": "stream",
          "name": "stdout",
          "text": [
            "Epoch 1 | Train Loss: 5.8187, Acc: 0.2864 | Test Loss: 4.6242, Acc: 0.3800\n"
          ]
        },
        {
          "output_type": "stream",
          "name": "stderr",
          "text": [
            "Epoch 2 [Train]: 100%|██████████| 3637/3637 [01:21<00:00, 44.66it/s]\n",
            "Epoch 2 [Test]: 100%|██████████| 910/910 [00:11<00:00, 77.42it/s]\n"
          ]
        },
        {
          "output_type": "stream",
          "name": "stdout",
          "text": [
            "Epoch 2 | Train Loss: 4.5553, Acc: 0.3875 | Test Loss: 4.1213, Acc: 0.4310\n"
          ]
        },
        {
          "output_type": "stream",
          "name": "stderr",
          "text": [
            "Epoch 3 [Train]: 100%|██████████| 3637/3637 [01:21<00:00, 44.55it/s]\n",
            "Epoch 3 [Test]: 100%|██████████| 910/910 [00:11<00:00, 76.12it/s]\n"
          ]
        },
        {
          "output_type": "stream",
          "name": "stdout",
          "text": [
            "Epoch 3 | Train Loss: 4.1844, Acc: 0.4251 | Test Loss: 3.8581, Acc: 0.4572\n"
          ]
        },
        {
          "output_type": "stream",
          "name": "stderr",
          "text": [
            "Epoch 4 [Train]: 100%|██████████| 3637/3637 [01:21<00:00, 44.52it/s]\n",
            "Epoch 4 [Test]: 100%|██████████| 910/910 [00:11<00:00, 75.97it/s]\n"
          ]
        },
        {
          "output_type": "stream",
          "name": "stdout",
          "text": [
            "Epoch 4 | Train Loss: 3.9530, Acc: 0.4494 | Test Loss: 3.6707, Acc: 0.4817\n"
          ]
        },
        {
          "output_type": "stream",
          "name": "stderr",
          "text": [
            "Epoch 5 [Train]: 100%|██████████| 3637/3637 [01:22<00:00, 44.30it/s]\n",
            "Epoch 5 [Test]: 100%|██████████| 910/910 [00:12<00:00, 75.64it/s]\n"
          ]
        },
        {
          "output_type": "stream",
          "name": "stdout",
          "text": [
            "Epoch 5 | Train Loss: 3.7689, Acc: 0.4701 | Test Loss: 3.5103, Acc: 0.5001\n"
          ]
        },
        {
          "output_type": "stream",
          "name": "stderr",
          "text": [
            "Epoch 6 [Train]: 100%|██████████| 3637/3637 [01:22<00:00, 44.34it/s]\n",
            "Epoch 6 [Test]: 100%|██████████| 910/910 [00:11<00:00, 76.20it/s]\n"
          ]
        },
        {
          "output_type": "stream",
          "name": "stdout",
          "text": [
            "Epoch 6 | Train Loss: 3.6249, Acc: 0.4878 | Test Loss: 3.4065, Acc: 0.5133\n"
          ]
        },
        {
          "output_type": "stream",
          "name": "stderr",
          "text": [
            "Epoch 7 [Train]: 100%|██████████| 3637/3637 [01:21<00:00, 44.43it/s]\n",
            "Epoch 7 [Test]: 100%|██████████| 910/910 [00:11<00:00, 76.07it/s]\n"
          ]
        },
        {
          "output_type": "stream",
          "name": "stdout",
          "text": [
            "Epoch 7 | Train Loss: 3.5113, Acc: 0.5015 | Test Loss: 3.3556, Acc: 0.5166\n"
          ]
        },
        {
          "output_type": "stream",
          "name": "stderr",
          "text": [
            "Epoch 8 [Train]: 100%|██████████| 3637/3637 [01:21<00:00, 44.56it/s]\n",
            "Epoch 8 [Test]: 100%|██████████| 910/910 [00:11<00:00, 76.39it/s]\n"
          ]
        },
        {
          "output_type": "stream",
          "name": "stdout",
          "text": [
            "Epoch 8 | Train Loss: 3.4112, Acc: 0.5129 | Test Loss: 3.2417, Acc: 0.5311\n"
          ]
        },
        {
          "output_type": "stream",
          "name": "stderr",
          "text": [
            "Epoch 9 [Train]: 100%|██████████| 3637/3637 [01:21<00:00, 44.48it/s]\n",
            "Epoch 9 [Test]: 100%|██████████| 910/910 [00:11<00:00, 76.30it/s]\n"
          ]
        },
        {
          "output_type": "stream",
          "name": "stdout",
          "text": [
            "Epoch 9 | Train Loss: 3.3321, Acc: 0.5225 | Test Loss: 3.1755, Acc: 0.5421\n"
          ]
        },
        {
          "output_type": "stream",
          "name": "stderr",
          "text": [
            "Epoch 10 [Train]: 100%|██████████| 3637/3637 [01:21<00:00, 44.44it/s]\n",
            "Epoch 10 [Test]: 100%|██████████| 910/910 [00:11<00:00, 77.10it/s]\n"
          ]
        },
        {
          "output_type": "stream",
          "name": "stdout",
          "text": [
            "Epoch 10 | Train Loss: 3.2587, Acc: 0.5316 | Test Loss: 3.1361, Acc: 0.5469\n"
          ]
        },
        {
          "output_type": "stream",
          "name": "stderr",
          "text": [
            "Epoch 11 [Train]: 100%|██████████| 3637/3637 [01:22<00:00, 44.30it/s]\n",
            "Epoch 11 [Test]: 100%|██████████| 910/910 [00:11<00:00, 76.34it/s]\n"
          ]
        },
        {
          "output_type": "stream",
          "name": "stdout",
          "text": [
            "Epoch 11 | Train Loss: 3.1953, Acc: 0.5393 | Test Loss: 3.0916, Acc: 0.5532\n"
          ]
        },
        {
          "output_type": "stream",
          "name": "stderr",
          "text": [
            "Epoch 12 [Train]: 100%|██████████| 3637/3637 [01:21<00:00, 44.46it/s]\n",
            "Epoch 12 [Test]: 100%|██████████| 910/910 [00:11<00:00, 76.83it/s]\n"
          ]
        },
        {
          "output_type": "stream",
          "name": "stdout",
          "text": [
            "Epoch 12 | Train Loss: 3.1448, Acc: 0.5459 | Test Loss: 3.0480, Acc: 0.5574\n"
          ]
        },
        {
          "output_type": "stream",
          "name": "stderr",
          "text": [
            "Epoch 13 [Train]: 100%|██████████| 3637/3637 [01:21<00:00, 44.45it/s]\n",
            "Epoch 13 [Test]: 100%|██████████| 910/910 [00:11<00:00, 76.64it/s]\n"
          ]
        },
        {
          "output_type": "stream",
          "name": "stdout",
          "text": [
            "Epoch 13 | Train Loss: 3.0956, Acc: 0.5520 | Test Loss: 3.0091, Acc: 0.5620\n"
          ]
        },
        {
          "output_type": "stream",
          "name": "stderr",
          "text": [
            "Epoch 14 [Train]: 100%|██████████| 3637/3637 [01:21<00:00, 44.57it/s]\n",
            "Epoch 14 [Test]: 100%|██████████| 910/910 [00:11<00:00, 76.68it/s]\n"
          ]
        },
        {
          "output_type": "stream",
          "name": "stdout",
          "text": [
            "Epoch 14 | Train Loss: 3.0489, Acc: 0.5576 | Test Loss: 3.0064, Acc: 0.5616\n"
          ]
        },
        {
          "output_type": "stream",
          "name": "stderr",
          "text": [
            "Epoch 15 [Train]: 100%|██████████| 3637/3637 [01:21<00:00, 44.45it/s]\n",
            "Epoch 15 [Test]: 100%|██████████| 910/910 [00:11<00:00, 76.16it/s]\n"
          ]
        },
        {
          "output_type": "stream",
          "name": "stdout",
          "text": [
            "Epoch 15 | Train Loss: 3.0081, Acc: 0.5625 | Test Loss: 2.9777, Acc: 0.5660\n"
          ]
        },
        {
          "output_type": "stream",
          "name": "stderr",
          "text": [
            "Epoch 16 [Train]: 100%|██████████| 3637/3637 [01:21<00:00, 44.44it/s]\n",
            "Epoch 16 [Test]: 100%|██████████| 910/910 [00:11<00:00, 76.70it/s]\n"
          ]
        },
        {
          "output_type": "stream",
          "name": "stdout",
          "text": [
            "Epoch 16 | Train Loss: 2.9735, Acc: 0.5671 | Test Loss: 2.9334, Acc: 0.5717\n"
          ]
        },
        {
          "output_type": "stream",
          "name": "stderr",
          "text": [
            "Epoch 17 [Train]: 100%|██████████| 3637/3637 [01:21<00:00, 44.41it/s]\n",
            "Epoch 17 [Test]: 100%|██████████| 910/910 [00:11<00:00, 77.63it/s]\n"
          ]
        },
        {
          "output_type": "stream",
          "name": "stdout",
          "text": [
            "Epoch 17 | Train Loss: 2.9373, Acc: 0.5719 | Test Loss: 2.9352, Acc: 0.5728\n"
          ]
        },
        {
          "output_type": "stream",
          "name": "stderr",
          "text": [
            "Epoch 18 [Train]: 100%|██████████| 3637/3637 [01:21<00:00, 44.38it/s]\n",
            "Epoch 18 [Test]: 100%|██████████| 910/910 [00:11<00:00, 76.57it/s]\n"
          ]
        },
        {
          "output_type": "stream",
          "name": "stdout",
          "text": [
            "Epoch 18 | Train Loss: 2.9089, Acc: 0.5752 | Test Loss: 2.9043, Acc: 0.5769\n"
          ]
        },
        {
          "output_type": "stream",
          "name": "stderr",
          "text": [
            "Epoch 19 [Train]: 100%|██████████| 3637/3637 [01:21<00:00, 44.40it/s]\n",
            "Epoch 19 [Test]: 100%|██████████| 910/910 [00:11<00:00, 76.42it/s]\n"
          ]
        },
        {
          "output_type": "stream",
          "name": "stdout",
          "text": [
            "Epoch 19 | Train Loss: 2.8795, Acc: 0.5789 | Test Loss: 2.8982, Acc: 0.5785\n"
          ]
        },
        {
          "output_type": "stream",
          "name": "stderr",
          "text": [
            "Epoch 20 [Train]: 100%|██████████| 3637/3637 [01:21<00:00, 44.48it/s]\n",
            "Epoch 20 [Test]: 100%|██████████| 910/910 [00:11<00:00, 77.07it/s]\n"
          ]
        },
        {
          "output_type": "stream",
          "name": "stdout",
          "text": [
            "Epoch 20 | Train Loss: 2.8499, Acc: 0.5830 | Test Loss: 2.8599, Acc: 0.5813\n"
          ]
        },
        {
          "output_type": "stream",
          "name": "stderr",
          "text": [
            "Epoch 21 [Train]: 100%|██████████| 3637/3637 [01:21<00:00, 44.60it/s]\n",
            "Epoch 21 [Test]: 100%|██████████| 910/910 [00:11<00:00, 76.90it/s]\n"
          ]
        },
        {
          "output_type": "stream",
          "name": "stdout",
          "text": [
            "Epoch 21 | Train Loss: 2.8292, Acc: 0.5846 | Test Loss: 2.8653, Acc: 0.5820\n"
          ]
        },
        {
          "output_type": "stream",
          "name": "stderr",
          "text": [
            "Epoch 22 [Train]: 100%|██████████| 3637/3637 [01:21<00:00, 44.44it/s]\n",
            "Epoch 22 [Test]: 100%|██████████| 910/910 [00:11<00:00, 76.33it/s]\n"
          ]
        },
        {
          "output_type": "stream",
          "name": "stdout",
          "text": [
            "Epoch 22 | Train Loss: 2.7995, Acc: 0.5891 | Test Loss: 2.8598, Acc: 0.5849\n"
          ]
        },
        {
          "output_type": "stream",
          "name": "stderr",
          "text": [
            "Epoch 23 [Train]: 100%|██████████| 3637/3637 [01:22<00:00, 44.24it/s]\n",
            "Epoch 23 [Test]: 100%|██████████| 910/910 [00:11<00:00, 76.92it/s]\n"
          ]
        },
        {
          "output_type": "stream",
          "name": "stdout",
          "text": [
            "Epoch 23 | Train Loss: 2.7809, Acc: 0.5913 | Test Loss: 2.8609, Acc: 0.5842\n"
          ]
        },
        {
          "output_type": "stream",
          "name": "stderr",
          "text": [
            "Epoch 24 [Train]: 100%|██████████| 3637/3637 [01:21<00:00, 44.56it/s]\n",
            "Epoch 24 [Test]: 100%|██████████| 910/910 [00:11<00:00, 77.32it/s]\n"
          ]
        },
        {
          "output_type": "stream",
          "name": "stdout",
          "text": [
            "Epoch 24 | Train Loss: 2.7563, Acc: 0.5947 | Test Loss: 2.8287, Acc: 0.5882\n"
          ]
        },
        {
          "output_type": "stream",
          "name": "stderr",
          "text": [
            "Epoch 25 [Train]: 100%|██████████| 3637/3637 [01:22<00:00, 44.33it/s]\n",
            "Epoch 25 [Test]: 100%|██████████| 910/910 [00:11<00:00, 76.21it/s]\n"
          ]
        },
        {
          "output_type": "stream",
          "name": "stdout",
          "text": [
            "Epoch 25 | Train Loss: 2.7340, Acc: 0.5980 | Test Loss: 2.8269, Acc: 0.5893\n"
          ]
        },
        {
          "output_type": "stream",
          "name": "stderr",
          "text": [
            "Epoch 26 [Train]: 100%|██████████| 3637/3637 [01:21<00:00, 44.50it/s]\n",
            "Epoch 26 [Test]: 100%|██████████| 910/910 [00:11<00:00, 76.47it/s]\n"
          ]
        },
        {
          "output_type": "stream",
          "name": "stdout",
          "text": [
            "Epoch 26 | Train Loss: 2.7153, Acc: 0.5997 | Test Loss: 2.8199, Acc: 0.5914\n"
          ]
        },
        {
          "output_type": "stream",
          "name": "stderr",
          "text": [
            "Epoch 27 [Train]: 100%|██████████| 3637/3637 [01:21<00:00, 44.39it/s]\n",
            "Epoch 27 [Test]: 100%|██████████| 910/910 [00:11<00:00, 77.12it/s]\n"
          ]
        },
        {
          "output_type": "stream",
          "name": "stdout",
          "text": [
            "Epoch 27 | Train Loss: 2.6962, Acc: 0.6031 | Test Loss: 2.8122, Acc: 0.5890\n"
          ]
        },
        {
          "output_type": "stream",
          "name": "stderr",
          "text": [
            "Epoch 28 [Train]: 100%|██████████| 3637/3637 [01:21<00:00, 44.51it/s]\n",
            "Epoch 28 [Test]: 100%|██████████| 910/910 [00:11<00:00, 76.87it/s]\n"
          ]
        },
        {
          "output_type": "stream",
          "name": "stdout",
          "text": [
            "Epoch 28 | Train Loss: 2.6821, Acc: 0.6042 | Test Loss: 2.7923, Acc: 0.5936\n"
          ]
        },
        {
          "output_type": "stream",
          "name": "stderr",
          "text": [
            "Epoch 29 [Train]: 100%|██████████| 3637/3637 [01:21<00:00, 44.47it/s]\n",
            "Epoch 29 [Test]: 100%|██████████| 910/910 [00:11<00:00, 76.80it/s]\n"
          ]
        },
        {
          "output_type": "stream",
          "name": "stdout",
          "text": [
            "Epoch 29 | Train Loss: 2.6644, Acc: 0.6072 | Test Loss: 2.7713, Acc: 0.5932\n"
          ]
        },
        {
          "output_type": "stream",
          "name": "stderr",
          "text": [
            "Epoch 30 [Train]: 100%|██████████| 3637/3637 [01:21<00:00, 44.42it/s]\n",
            "Epoch 30 [Test]: 100%|██████████| 910/910 [00:11<00:00, 76.09it/s]\n"
          ]
        },
        {
          "output_type": "stream",
          "name": "stdout",
          "text": [
            "Epoch 30 | Train Loss: 2.6468, Acc: 0.6086 | Test Loss: 2.8065, Acc: 0.5908\n"
          ]
        },
        {
          "output_type": "stream",
          "name": "stderr",
          "text": [
            "Epoch 31 [Train]: 100%|██████████| 3637/3637 [01:22<00:00, 44.02it/s]\n",
            "Epoch 31 [Test]: 100%|██████████| 910/910 [00:11<00:00, 77.01it/s]\n"
          ]
        },
        {
          "output_type": "stream",
          "name": "stdout",
          "text": [
            "Epoch 31 | Train Loss: 2.6243, Acc: 0.6119 | Test Loss: 2.7933, Acc: 0.5927\n"
          ]
        },
        {
          "output_type": "stream",
          "name": "stderr",
          "text": [
            "Epoch 32 [Train]: 100%|██████████| 3637/3637 [01:21<00:00, 44.47it/s]\n",
            "Epoch 32 [Test]: 100%|██████████| 910/910 [00:11<00:00, 76.38it/s]\n"
          ]
        },
        {
          "output_type": "stream",
          "name": "stdout",
          "text": [
            "Epoch 32 | Train Loss: 2.6175, Acc: 0.6135 | Test Loss: 2.8029, Acc: 0.5944\n"
          ]
        },
        {
          "output_type": "stream",
          "name": "stderr",
          "text": [
            "Epoch 33 [Train]: 100%|██████████| 3637/3637 [01:22<00:00, 44.34it/s]\n",
            "Epoch 33 [Test]: 100%|██████████| 910/910 [00:11<00:00, 76.75it/s]\n"
          ]
        },
        {
          "output_type": "stream",
          "name": "stdout",
          "text": [
            "Epoch 33 | Train Loss: 2.5973, Acc: 0.6156 | Test Loss: 2.7651, Acc: 0.5978\n"
          ]
        },
        {
          "output_type": "stream",
          "name": "stderr",
          "text": [
            "Epoch 34 [Train]: 100%|██████████| 3637/3637 [01:21<00:00, 44.46it/s]\n",
            "Epoch 34 [Test]: 100%|██████████| 910/910 [00:11<00:00, 77.13it/s]\n"
          ]
        },
        {
          "output_type": "stream",
          "name": "stdout",
          "text": [
            "Epoch 34 | Train Loss: 2.5839, Acc: 0.6175 | Test Loss: 2.7794, Acc: 0.5957\n"
          ]
        },
        {
          "output_type": "stream",
          "name": "stderr",
          "text": [
            "Epoch 35 [Train]: 100%|██████████| 3637/3637 [01:21<00:00, 44.48it/s]\n",
            "Epoch 35 [Test]: 100%|██████████| 910/910 [00:11<00:00, 76.47it/s]\n"
          ]
        },
        {
          "output_type": "stream",
          "name": "stdout",
          "text": [
            "Epoch 35 | Train Loss: 2.5675, Acc: 0.6187 | Test Loss: 2.7784, Acc: 0.5955\n"
          ]
        },
        {
          "output_type": "stream",
          "name": "stderr",
          "text": [
            "Epoch 36 [Train]: 100%|██████████| 3637/3637 [01:21<00:00, 44.50it/s]\n",
            "Epoch 36 [Test]: 100%|██████████| 910/910 [00:11<00:00, 76.58it/s]\n"
          ]
        },
        {
          "output_type": "stream",
          "name": "stdout",
          "text": [
            "Epoch 36 | Train Loss: 2.5574, Acc: 0.6202 | Test Loss: 2.7716, Acc: 0.6008\n"
          ]
        },
        {
          "output_type": "stream",
          "name": "stderr",
          "text": [
            "Epoch 37 [Train]: 100%|██████████| 3637/3637 [01:21<00:00, 44.36it/s]\n",
            "Epoch 37 [Test]: 100%|██████████| 910/910 [00:11<00:00, 76.46it/s]\n"
          ]
        },
        {
          "output_type": "stream",
          "name": "stdout",
          "text": [
            "Epoch 37 | Train Loss: 2.5462, Acc: 0.6220 | Test Loss: 2.7689, Acc: 0.5996\n"
          ]
        },
        {
          "output_type": "stream",
          "name": "stderr",
          "text": [
            "Epoch 38 [Train]: 100%|██████████| 3637/3637 [01:21<00:00, 44.36it/s]\n",
            "Epoch 38 [Test]: 100%|██████████| 910/910 [00:11<00:00, 76.67it/s]\n"
          ]
        },
        {
          "output_type": "stream",
          "name": "stdout",
          "text": [
            "Epoch 38 | Train Loss: 2.5337, Acc: 0.6241 | Test Loss: 2.7598, Acc: 0.6002\n"
          ]
        },
        {
          "output_type": "stream",
          "name": "stderr",
          "text": [
            "Epoch 39 [Train]: 100%|██████████| 3637/3637 [01:21<00:00, 44.59it/s]\n",
            "Epoch 39 [Test]: 100%|██████████| 910/910 [00:11<00:00, 77.00it/s]\n"
          ]
        },
        {
          "output_type": "stream",
          "name": "stdout",
          "text": [
            "Epoch 39 | Train Loss: 2.5202, Acc: 0.6259 | Test Loss: 2.7572, Acc: 0.6039\n"
          ]
        },
        {
          "output_type": "stream",
          "name": "stderr",
          "text": [
            "Epoch 40 [Train]: 100%|██████████| 3637/3637 [01:21<00:00, 44.55it/s]\n",
            "Epoch 40 [Test]: 100%|██████████| 910/910 [00:11<00:00, 76.39it/s]\n"
          ]
        },
        {
          "output_type": "stream",
          "name": "stdout",
          "text": [
            "Epoch 40 | Train Loss: 2.5086, Acc: 0.6274 | Test Loss: 2.7371, Acc: 0.6031\n"
          ]
        },
        {
          "output_type": "stream",
          "name": "stderr",
          "text": [
            "Epoch 41 [Train]: 100%|██████████| 3637/3637 [01:21<00:00, 44.47it/s]\n",
            "Epoch 41 [Test]: 100%|██████████| 910/910 [00:11<00:00, 77.37it/s]\n"
          ]
        },
        {
          "output_type": "stream",
          "name": "stdout",
          "text": [
            "Epoch 41 | Train Loss: 2.4956, Acc: 0.6288 | Test Loss: 2.7565, Acc: 0.6000\n"
          ]
        },
        {
          "output_type": "stream",
          "name": "stderr",
          "text": [
            "Epoch 42 [Train]: 100%|██████████| 3637/3637 [01:21<00:00, 44.38it/s]\n",
            "Epoch 42 [Test]: 100%|██████████| 910/910 [00:11<00:00, 76.23it/s]\n"
          ]
        },
        {
          "output_type": "stream",
          "name": "stdout",
          "text": [
            "Epoch 42 | Train Loss: 2.4894, Acc: 0.6300 | Test Loss: 2.7524, Acc: 0.6028\n"
          ]
        },
        {
          "output_type": "stream",
          "name": "stderr",
          "text": [
            "Epoch 43 [Train]: 100%|██████████| 3637/3637 [01:21<00:00, 44.54it/s]\n",
            "Epoch 43 [Test]: 100%|██████████| 910/910 [00:11<00:00, 76.79it/s]\n"
          ]
        },
        {
          "output_type": "stream",
          "name": "stdout",
          "text": [
            "Epoch 43 | Train Loss: 2.4720, Acc: 0.6318 | Test Loss: 2.7700, Acc: 0.6018\n"
          ]
        },
        {
          "output_type": "stream",
          "name": "stderr",
          "text": [
            "Epoch 44 [Train]: 100%|██████████| 3637/3637 [01:21<00:00, 44.58it/s]\n",
            "Epoch 44 [Test]: 100%|██████████| 910/910 [00:12<00:00, 75.82it/s]\n"
          ]
        },
        {
          "output_type": "stream",
          "name": "stdout",
          "text": [
            "Epoch 44 | Train Loss: 2.4653, Acc: 0.6331 | Test Loss: 2.7516, Acc: 0.6020\n"
          ]
        },
        {
          "output_type": "stream",
          "name": "stderr",
          "text": [
            "Epoch 45 [Train]: 100%|██████████| 3637/3637 [01:21<00:00, 44.44it/s]\n",
            "Epoch 45 [Test]: 100%|██████████| 910/910 [00:11<00:00, 76.56it/s]\n"
          ]
        },
        {
          "output_type": "stream",
          "name": "stdout",
          "text": [
            "Epoch 45 | Train Loss: 2.4512, Acc: 0.6352 | Test Loss: 2.7435, Acc: 0.6042\n"
          ]
        },
        {
          "output_type": "stream",
          "name": "stderr",
          "text": [
            "Epoch 46 [Train]: 100%|██████████| 3637/3637 [01:21<00:00, 44.57it/s]\n",
            "Epoch 46 [Test]: 100%|██████████| 910/910 [00:11<00:00, 76.48it/s]\n"
          ]
        },
        {
          "output_type": "stream",
          "name": "stdout",
          "text": [
            "Epoch 46 | Train Loss: 2.4403, Acc: 0.6367 | Test Loss: 2.7530, Acc: 0.6041\n"
          ]
        },
        {
          "output_type": "stream",
          "name": "stderr",
          "text": [
            "Epoch 47 [Train]: 100%|██████████| 3637/3637 [01:22<00:00, 44.22it/s]\n",
            "Epoch 47 [Test]: 100%|██████████| 910/910 [00:11<00:00, 76.12it/s]\n"
          ]
        },
        {
          "output_type": "stream",
          "name": "stdout",
          "text": [
            "Epoch 47 | Train Loss: 2.4316, Acc: 0.6373 | Test Loss: 2.7430, Acc: 0.6032\n"
          ]
        },
        {
          "output_type": "stream",
          "name": "stderr",
          "text": [
            "Epoch 48 [Train]: 100%|██████████| 3637/3637 [01:22<00:00, 44.08it/s]\n",
            "Epoch 48 [Test]: 100%|██████████| 910/910 [00:11<00:00, 76.45it/s]\n"
          ]
        },
        {
          "output_type": "stream",
          "name": "stdout",
          "text": [
            "Epoch 48 | Train Loss: 2.4261, Acc: 0.6374 | Test Loss: 2.7696, Acc: 0.6017\n"
          ]
        },
        {
          "output_type": "stream",
          "name": "stderr",
          "text": [
            "Epoch 49 [Train]: 100%|██████████| 3637/3637 [01:22<00:00, 44.33it/s]\n",
            "Epoch 49 [Test]: 100%|██████████| 910/910 [00:11<00:00, 75.98it/s]\n"
          ]
        },
        {
          "output_type": "stream",
          "name": "stdout",
          "text": [
            "Epoch 49 | Train Loss: 2.4186, Acc: 0.6391 | Test Loss: 2.7127, Acc: 0.6078\n"
          ]
        },
        {
          "output_type": "stream",
          "name": "stderr",
          "text": [
            "Epoch 50 [Train]: 100%|██████████| 3637/3637 [01:22<00:00, 44.23it/s]\n",
            "Epoch 50 [Test]: 100%|██████████| 910/910 [00:11<00:00, 76.80it/s]"
          ]
        },
        {
          "output_type": "stream",
          "name": "stdout",
          "text": [
            "Epoch 50 | Train Loss: 2.4041, Acc: 0.6412 | Test Loss: 2.7501, Acc: 0.6070\n"
          ]
        },
        {
          "output_type": "stream",
          "name": "stderr",
          "text": [
            "\n"
          ]
        }
      ],
      "source": [
        "from tqdm import tqdm\n",
        "start_epoch = 0\n",
        "total_epochs = epochs\n",
        "train_acc_list = []\n",
        "test_acc_list = []\n",
        "for epoch in range(start_epoch, total_epochs):\n",
        "    # ---- Training ----\n",
        "    model.train()\n",
        "    total_loss = 0\n",
        "    correct_moves = 0\n",
        "    total_moves = 0\n",
        "\n",
        "    for inputs, labels in tqdm(train_loader, desc=f\"Epoch {epoch + 1} [Train]\"):\n",
        "        inputs = inputs.to(device)\n",
        "        labels = labels.to(device)\n",
        "\n",
        "        optimizer.zero_grad()\n",
        "        outputs = model(inputs)\n",
        "\n",
        "        loss = 0\n",
        "        for i in range(2):\n",
        "            loss += criterion(outputs[:, i, :], labels[:, i])\n",
        "            preds = outputs[:, i, :].argmax(dim=1)\n",
        "            correct_moves += (preds == labels[:, i]).sum().item()\n",
        "            total_moves += labels.size(0)\n",
        "\n",
        "        loss.backward()\n",
        "        optimizer.step()\n",
        "        total_loss += loss.item()\n",
        "\n",
        "    train_loss = total_loss / len(train_loader)\n",
        "    train_acc = correct_moves / total_moves\n",
        "\n",
        "    # ---- Evaluation ----\n",
        "    model.eval()\n",
        "    test_loss = 0\n",
        "    test_correct = 0\n",
        "    test_total = 0\n",
        "\n",
        "    with torch.no_grad():\n",
        "        for inputs, labels in tqdm(test_loader, desc=f\"Epoch {epoch + 1} [Test]\"):\n",
        "            inputs = inputs.to(device)\n",
        "            labels = labels.to(device)\n",
        "            outputs = model(inputs)\n",
        "\n",
        "            for i in range(2):\n",
        "                test_loss += criterion(outputs[:, i, :], labels[:, i]).item()\n",
        "                preds = outputs[:, i, :].argmax(dim=1)\n",
        "                test_correct += (preds == labels[:, i]).sum().item()\n",
        "                test_total += labels.size(0)\n",
        "\n",
        "    test_loss /= len(test_loader)\n",
        "    test_acc = test_correct / test_total\n",
        "\n",
        "    print(f\"Epoch {epoch + 1} | Train Loss: {train_loss:.4f}, Acc: {train_acc:.4f} | \"\n",
        "          f\"Test Loss: {test_loss:.4f}, Acc: {test_acc:.4f}\")\n",
        "\n",
        "    torch.save(model.state_dict(), f\"transformer_model_epoch{epoch}.pt\")\n",
        "\n",
        "\n",
        "    # After each epoch\n",
        "    train_acc_list.append(train_acc)\n",
        "    test_acc_list.append(test_acc)\n",
        "\n"
      ]
    },
    {
      "cell_type": "markdown",
      "id": "58e5893d-2bc2-4b55-a8e8-998dedabef69",
      "metadata": {
        "id": "58e5893d-2bc2-4b55-a8e8-998dedabef69"
      },
      "source": [
        "## Visualizing Performance"
      ]
    },
    {
      "cell_type": "code",
      "execution_count": 18,
      "id": "f47a8427-5925-4f7a-b12c-c58e366e856a",
      "metadata": {
        "id": "f47a8427-5925-4f7a-b12c-c58e366e856a",
        "colab": {
          "base_uri": "https://localhost:8080/",
          "height": 564
        },
        "outputId": "b380b2f9-1914-4d0e-c969-e11c1c1d4ce9"
      },
      "outputs": [
        {
          "output_type": "display_data",
          "data": {
            "text/plain": [
              "<Figure size 1000x600 with 1 Axes>"
            ],
            "image/png": "[encoded data removed]"
          },
          "metadata": {}
        }
      ],
      "source": [
        "import matplotlib.pyplot as plt\n",
        "\n",
        "epochs = list(range(start_epoch + 1, start_epoch + 1 + len(train_acc_list)))\n",
        "plt.figure(figsize=(10, 6))\n",
        "plt.plot(epochs, train_acc_list, label=\"Train Accuracy\", marker='o')\n",
        "plt.plot(epochs, test_acc_list, label=\"Test Accuracy\", marker='s')\n",
        "plt.xlabel(\"Epoch\")\n",
        "plt.ylabel(\"Accuracy\")\n",
        "plt.title(\"Training vs Test Accuracy Over Time\")\n",
        "plt.legend()\n",
        "plt.grid(True)\n",
        "plt.show()"
      ]
    },
    {
      "cell_type": "code",
      "execution_count": null,
      "id": "e61a2c8c-f267-4acc-993b-7368a89c5910",
      "metadata": {
        "id": "e61a2c8c-f267-4acc-993b-7368a89c5910"
      },
      "outputs": [],
      "source": [
        "## Old code for the naive approach\n",
        "# for epoch in range(epochs):\n",
        "#     model.train()\n",
        "#     total_loss = 0\n",
        "#     correct_moves = 0\n",
        "#     total_moves = 0\n",
        "\n",
        "#     for inputs, labels in loader:\n",
        "#         inputs = inputs.to(device)\n",
        "#         labels = labels.to(device)\n",
        "\n",
        "#         optimizer.zero_grad()\n",
        "#         output = model(inputs)  # shape: [B, 4, 64]\n",
        "\n",
        "#         loss = 0\n",
        "#         for i in range(4):\n",
        "#             loss += criterion(output[:, i, :], labels[:, i])\n",
        "#             preds = output[:, i, :].argmax(dim=1)\n",
        "#             correct_moves += (preds == labels[:, i]).sum().item()\n",
        "#             total_moves += labels.size(0)\n",
        "\n",
        "#         loss.backward()\n",
        "#         optimizer.step()\n",
        "#         total_loss += loss.item()\n",
        "\n",
        "#     avg_loss = total_loss / len(loader)\n",
        "#     accuracy = correct_moves / (total_moves)\n",
        "#     print(f\"Epoch {epoch+1} | Loss: {avg_loss:.4f} | Accuracy: {accuracy:.4f}\")\n",
        "#     torch.save(model.state_dict(), f\"convlstm_model_{epoch}.pt\")\n",
        "#     print(f\"Model saved as 'convlstm_model_{epoch}.pt'\")"
      ]
    },
    {
      "cell_type": "markdown",
      "id": "1409ebce-7ac9-4689-b476-671160914df2",
      "metadata": {
        "id": "1409ebce-7ac9-4689-b476-671160914df2"
      },
      "source": [
        "## Convert to just Mate in 2 csv"
      ]
    },
    {
      "cell_type": "code",
      "execution_count": 9,
      "id": "63fb2664-c4d1-4b03-ba07-fa5cb02c78ca",
      "metadata": {
        "id": "63fb2664-c4d1-4b03-ba07-fa5cb02c78ca"
      },
      "outputs": [],
      "source": [
        "# Load the Lichess puzzle CSV (decompressed)\n",
        "df = pd.read_csv(\"lichess_db_puzzle.csv\", low_memory=False)\n",
        "\n",
        "# Step 1: Filter for mate-in-2 puzzles\n",
        "df = df[df[\"Themes\"].str.contains(\"mateIn2\", na=False)]\n",
        "\n",
        "# Step 2: Keep only puzzles where White moves first\n",
        "df = df[df[\"FEN\"].str.split().str[1] == \"w\"]\n",
        "\n",
        "# Step 3: Get player's first and second moves (0 and 2)\n",
        "df[\"move_list\"] = df[\"Moves\"].str.split()\n",
        "df = df[df[\"move_list\"].str.len() >= 3]\n",
        "df[\"move1\"] = df[\"move_list\"].apply(lambda m: m[0])\n",
        "df[\"move2\"] = df[\"move_list\"].apply(lambda m: m[2])\n",
        "\n",
        "# Step 4: Save just the FEN and two moves\n",
        "df = df[[\"FEN\", \"move1\", \"move2\"]].rename(columns={\"FEN\": \"fen\"})\n",
        "df.to_csv(\"mate_in_2_simple.csv\", index=False)"
      ]
    }
  ],
  "metadata": {
    "kernelspec": {
      "display_name": "Python 3",
      "name": "python3"
    },
    "language_info": {
      "codemirror_mode": {
        "name": "ipython",
        "version": 3
      },
      "file_extension": ".py",
      "mimetype": "text/x-python",
      "name": "python",
      "nbconvert_exporter": "python",
      "pygments_lexer": "ipython3",
      "version": "3.10.11"
    },
    "colab": {
      "provenance": [],
      "gpuType": "L4"
    },
    "accelerator": "GPU"
  },
  "nbformat": 4,
  "nbformat_minor": 5
}