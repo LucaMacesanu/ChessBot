{
 "cells": [
  {
   "cell_type": "markdown",
   "id": "1aad4a87-005f-4023-8f41-66e32a9b2ccb",
   "metadata": {},
   "source": [
    "## Model"
   ]
  },
  {
   "cell_type": "code",
   "execution_count": 31,
   "id": "7054d322-624e-41ef-85bd-6ccb87a83fa4",
   "metadata": {},
   "outputs": [],
   "source": [
    "import torch\n",
    "import numpy as np\n",
    "import chess\n",
    "import chess.pgn\n",
    "import chess.engine\n",
    "\n",
    "# --- FEN to Tensor Encoding (12 channels: piece type x color) ---\n",
    "piece_to_plane = {\n",
    "    'P': 0, 'N': 1, 'B': 2, 'R': 3, 'Q': 4, 'K': 5,\n",
    "    'p': 6, 'n': 7, 'b': 8, 'r': 9, 'q': 10, 'k': 11\n",
    "}\n",
    "\n",
    "def fen_to_tensor(fen):\n",
    "    board = chess.Board(fen)\n",
    "    tensor = np.zeros((12, 8, 8), dtype=np.float32)\n",
    "    for square in chess.SQUARES:\n",
    "        piece = board.piece_at(square)\n",
    "        if piece:\n",
    "            row = 7 - (square // 8)  # flip vertically to match tensor layout\n",
    "            col = square % 8\n",
    "            tensor[piece_to_plane[piece.symbol()], row, col] = 1.0\n",
    "    return torch.tensor(tensor, dtype=torch.float32)\n",
    "\n",
    "# --- Simple Feedforward Model ---\n",
    "class TwoMoveMateSolver(nn.Module):\n",
    "    def __init__(self):\n",
    "        super().__init__()\n",
    "        self.flatten = nn.Flatten()                       # 12x8x8 → 768\n",
    "        self.fc1 = nn.Linear(768, 1024)\n",
    "        self.fc2 = nn.Linear(1024, 512)\n",
    "        self.output = nn.Linear(512, 4 * 64)              # 4 softmax heads over 64 squares\n",
    "\n",
    "    def forward(self, x):\n",
    "        x = self.flatten(x)           # [B, 768]\n",
    "        x = F.relu(self.fc1(x))       # [B, 1024]\n",
    "        x = F.relu(self.fc2(x))       # [B, 512]\n",
    "        x = self.output(x)            # [B, 256]\n",
    "        x = x.view(-1, 4, 64)         # [B, 4 moves, 64-square choices]\n",
    "        return x\n"
   ]
  },
  {
   "cell_type": "markdown",
   "id": "6c154606-ab63-40d3-96d6-da53a095e3c5",
   "metadata": {},
   "source": [
    "## Dataset"
   ]
  },
  {
   "cell_type": "code",
   "execution_count": 32,
   "id": "47775b45-4c6d-4cf8-8342-871f7614496e",
   "metadata": {},
   "outputs": [],
   "source": [
    "import torch\n",
    "import pandas as pd\n",
    "import chess\n",
    "from torch.utils.data import Dataset\n",
    "\n",
    "class TwoMoveMateDataset(Dataset):\n",
    "    def __init__(self, csv_path):\n",
    "        self.df = pd.read_csv(csv_path)\n",
    "\n",
    "    def __len__(self):\n",
    "        return len(self.df)\n",
    "\n",
    "    def __getitem__(self, idx):\n",
    "        row = self.df.iloc[idx]\n",
    "        fen = row['fen']\n",
    "        move1 = chess.Move.from_uci(row['move1'])\n",
    "        move2 = chess.Move.from_uci(row['move2'])\n",
    "\n",
    "        # Encode board state\n",
    "        input_tensor = fen_to_tensor(fen)\n",
    "\n",
    "        # Encode moves as 4 target indices: from1, to1, from2, to2\n",
    "        label = torch.tensor([\n",
    "            move1.from_square,\n",
    "            move1.to_square,\n",
    "            move2.from_square,\n",
    "            move2.to_square\n",
    "        ], dtype=torch.long)\n",
    "\n",
    "        return input_tensor, label"
   ]
  },
  {
   "cell_type": "markdown",
   "id": "b86515b1-3388-4009-9971-2a4f654df227",
   "metadata": {},
   "source": [
    "## Train"
   ]
  },
  {
   "cell_type": "code",
   "execution_count": 33,
   "id": "1b91e4a4-80ea-49dd-b26e-8130ea95fd7e",
   "metadata": {},
   "outputs": [],
   "source": [
    "# --- Hyperparameters\n",
    "batch_size = 64\n",
    "epochs = 10\n",
    "lr = 1e-3"
   ]
  },
  {
   "cell_type": "code",
   "execution_count": 29,
   "id": "f819f61a-f02d-4944-b6ae-ff8d1f5c4f06",
   "metadata": {},
   "outputs": [],
   "source": [
    "# --- Data\n",
    "from torch.utils.data import DataLoader\n",
    "dataset = TwoMoveMateDataset('mate_in_2_simple.csv')\n",
    "loader = DataLoader(dataset, batch_size=batch_size, shuffle=True)"
   ]
  },
  {
   "cell_type": "code",
   "execution_count": 30,
   "id": "62ef6901-138d-4463-bc21-ca71a847c77c",
   "metadata": {},
   "outputs": [
    {
     "data": {
      "text/html": [
       "<div>\n",
       "<style scoped>\n",
       "    .dataframe tbody tr th:only-of-type {\n",
       "        vertical-align: middle;\n",
       "    }\n",
       "\n",
       "    .dataframe tbody tr th {\n",
       "        vertical-align: top;\n",
       "    }\n",
       "\n",
       "    .dataframe thead th {\n",
       "        text-align: right;\n",
       "    }\n",
       "</style>\n",
       "<table border=\"1\" class=\"dataframe\">\n",
       "  <thead>\n",
       "    <tr style=\"text-align: right;\">\n",
       "      <th></th>\n",
       "      <th>fen</th>\n",
       "      <th>move1</th>\n",
       "      <th>move2</th>\n",
       "    </tr>\n",
       "  </thead>\n",
       "  <tbody>\n",
       "    <tr>\n",
       "      <th>0</th>\n",
       "      <td>4r3/1k6/pp3r2/1b2P2p/3R1p2/P1R2P2/1P4PP/6K1 w ...</td>\n",
       "      <td>e5f6</td>\n",
       "      <td>g1f2</td>\n",
       "    </tr>\n",
       "    <tr>\n",
       "      <th>1</th>\n",
       "      <td>5r1k/pp4pp/5p2/1BbQp1r1/6K1/7P/1PP3P1/3R3R w -...</td>\n",
       "      <td>g4h4</td>\n",
       "      <td>g2g3</td>\n",
       "    </tr>\n",
       "    <tr>\n",
       "      <th>2</th>\n",
       "      <td>2r5/pR5p/5p1k/4p3/4r3/B4nPP/PP3P2/1K2R3 w - - ...</td>\n",
       "      <td>e1e4</td>\n",
       "      <td>b1a1</td>\n",
       "    </tr>\n",
       "    <tr>\n",
       "      <th>3</th>\n",
       "      <td>1r4k1/p4ppp/2Q5/3pq3/8/P6P/2PR1PP1/Rr4K1 w - -...</td>\n",
       "      <td>a1b1</td>\n",
       "      <td>d2d1</td>\n",
       "    </tr>\n",
       "    <tr>\n",
       "      <th>4</th>\n",
       "      <td>1r6/5k2/2p1pNp1/p5Pp/1pQ1P2P/2P4R/KP3P2/3q4 w ...</td>\n",
       "      <td>c4c6</td>\n",
       "      <td>a2a3</td>\n",
       "    </tr>\n",
       "    <tr>\n",
       "      <th>...</th>\n",
       "      <td>...</td>\n",
       "      <td>...</td>\n",
       "      <td>...</td>\n",
       "    </tr>\n",
       "    <tr>\n",
       "      <th>290956</th>\n",
       "      <td>8/5Nkp/3p1qp1/1P1B4/4p3/1Q5P/5PPK/2r5 w - - 1 35</td>\n",
       "      <td>f2f3</td>\n",
       "      <td>g2g3</td>\n",
       "    </tr>\n",
       "    <tr>\n",
       "      <th>290957</th>\n",
       "      <td>6k1/4rpp1/2Bp3p/p7/P1P1Pp1q/2P1b3/2Q3rP/R1B4K ...</td>\n",
       "      <td>c2g2</td>\n",
       "      <td>g2f1</td>\n",
       "    </tr>\n",
       "    <tr>\n",
       "      <th>290958</th>\n",
       "      <td>4r2k/1NR2Q1p/4P1n1/pp1p4/3P4/4q3/PP4PP/6K1 w -...</td>\n",
       "      <td>g1h1</td>\n",
       "      <td>f7f1</td>\n",
       "    </tr>\n",
       "    <tr>\n",
       "      <th>290959</th>\n",
       "      <td>3r3k/p5pp/8/5R2/1BQ1p3/P3q3/Bb4PP/6K1 w - - 0 28</td>\n",
       "      <td>g1f1</td>\n",
       "      <td>b4e1</td>\n",
       "    </tr>\n",
       "    <tr>\n",
       "      <th>290960</th>\n",
       "      <td>5Q2/pp3R1P/1kpp4/4p3/2P1P3/3PP2P/Pr2q3/2K5 w -...</td>\n",
       "      <td>f7f2</td>\n",
       "      <td>c1b1</td>\n",
       "    </tr>\n",
       "  </tbody>\n",
       "</table>\n",
       "<p>290961 rows × 3 columns</p>\n",
       "</div>"
      ],
      "text/plain": [
       "                                                      fen move1 move2\n",
       "0       4r3/1k6/pp3r2/1b2P2p/3R1p2/P1R2P2/1P4PP/6K1 w ...  e5f6  g1f2\n",
       "1       5r1k/pp4pp/5p2/1BbQp1r1/6K1/7P/1PP3P1/3R3R w -...  g4h4  g2g3\n",
       "2       2r5/pR5p/5p1k/4p3/4r3/B4nPP/PP3P2/1K2R3 w - - ...  e1e4  b1a1\n",
       "3       1r4k1/p4ppp/2Q5/3pq3/8/P6P/2PR1PP1/Rr4K1 w - -...  a1b1  d2d1\n",
       "4       1r6/5k2/2p1pNp1/p5Pp/1pQ1P2P/2P4R/KP3P2/3q4 w ...  c4c6  a2a3\n",
       "...                                                   ...   ...   ...\n",
       "290956   8/5Nkp/3p1qp1/1P1B4/4p3/1Q5P/5PPK/2r5 w - - 1 35  f2f3  g2g3\n",
       "290957  6k1/4rpp1/2Bp3p/p7/P1P1Pp1q/2P1b3/2Q3rP/R1B4K ...  c2g2  g2f1\n",
       "290958  4r2k/1NR2Q1p/4P1n1/pp1p4/3P4/4q3/PP4PP/6K1 w -...  g1h1  f7f1\n",
       "290959   3r3k/p5pp/8/5R2/1BQ1p3/P3q3/Bb4PP/6K1 w - - 0 28  g1f1  b4e1\n",
       "290960  5Q2/pp3R1P/1kpp4/4p3/2P1P3/3PP2P/Pr2q3/2K5 w -...  f7f2  c1b1\n",
       "\n",
       "[290961 rows x 3 columns]"
      ]
     },
     "execution_count": 30,
     "metadata": {},
     "output_type": "execute_result"
    }
   ],
   "source": [
    "dataset.df"
   ]
  },
  {
   "cell_type": "code",
   "execution_count": 34,
   "id": "15d1612e-24d6-4837-a9a4-cc5341f5f554",
   "metadata": {},
   "outputs": [],
   "source": [
    "# --- Model and training setup\n",
    "device = torch.device('cuda' if torch.cuda.is_available() else 'cpu')\n",
    "model = TwoMoveMateSolver().to(device)\n",
    "optimizer = torch.optim.Adam(model.parameters(), lr=lr)\n",
    "criterion = torch.nn.CrossEntropyLoss()"
   ]
  },
  {
   "cell_type": "code",
   "execution_count": null,
   "id": "48206491-d425-4bb0-a23e-194b241aa4d6",
   "metadata": {},
   "outputs": [
    {
     "name": "stdout",
     "output_type": "stream",
     "text": [
      "Epoch 1 | Loss: 7.8956 | Accuracy: 0.4663\n",
      "Epoch 2 | Loss: 5.7035 | Accuracy: 0.5891\n"
     ]
    }
   ],
   "source": [
    "for epoch in range(epochs):\n",
    "    model.train()\n",
    "    total_loss = 0\n",
    "    correct_moves = 0\n",
    "    total_moves = 0\n",
    "\n",
    "    for inputs, labels in loader:\n",
    "        inputs = inputs.to(device)\n",
    "        labels = labels.to(device)\n",
    "\n",
    "        optimizer.zero_grad()\n",
    "        output = model(inputs)  # shape: [B, 4, 64]\n",
    "\n",
    "        loss = 0\n",
    "        for i in range(4):\n",
    "            loss += criterion(output[:, i, :], labels[:, i])\n",
    "            preds = output[:, i, :].argmax(dim=1)\n",
    "            correct_moves += (preds == labels[:, i]).sum().item()\n",
    "            total_moves += labels.size(0)\n",
    "\n",
    "        loss.backward()\n",
    "        optimizer.step()\n",
    "        total_loss += loss.item()\n",
    "\n",
    "    avg_loss = total_loss / len(loader)\n",
    "    accuracy = correct_moves / (total_moves)\n",
    "    print(f\"Epoch {epoch+1} | Loss: {avg_loss:.4f} | Accuracy: {accuracy:.4f}\")\n"
   ]
  },
  {
   "cell_type": "code",
   "execution_count": null,
   "id": "8553c59c-92e0-4698-aa25-d0ce5225bb7f",
   "metadata": {},
   "outputs": [],
   "source": [
    "torch.save(model.state_dict(), \"twomove_model.pt\")\n",
    "print(\"Model saved as 'twomove_model.pt'\")"
   ]
  },
  {
   "cell_type": "markdown",
   "id": "1409ebce-7ac9-4689-b476-671160914df2",
   "metadata": {},
   "source": [
    "## Convert to just Mate in 2 csv"
   ]
  },
  {
   "cell_type": "code",
   "execution_count": 27,
   "id": "63fb2664-c4d1-4b03-ba07-fa5cb02c78ca",
   "metadata": {},
   "outputs": [],
   "source": [
    "# Load the Lichess puzzle CSV (decompressed)\n",
    "# df = pd.read_csv(\"lichess_db_puzzle.csv\", low_memory=False)\n",
    "\n",
    "# # Step 1: Filter for mate-in-2 puzzles\n",
    "# df = df[df[\"Themes\"].str.contains(\"mateIn2\", na=False)]\n",
    "\n",
    "# # Step 2: Keep only puzzles where White moves first\n",
    "# df = df[df[\"FEN\"].str.split().str[1] == \"w\"]\n",
    "\n",
    "# # Step 3: Get player's first and second moves (0 and 2)\n",
    "# df[\"move_list\"] = df[\"Moves\"].str.split()\n",
    "# df = df[df[\"move_list\"].str.len() >= 3]\n",
    "# df[\"move1\"] = df[\"move_list\"].apply(lambda m: m[0])\n",
    "# df[\"move2\"] = df[\"move_list\"].apply(lambda m: m[2])\n",
    "\n",
    "# # Step 4: Save just the FEN and two moves\n",
    "# df = df[[\"FEN\", \"move1\", \"move2\"]].rename(columns={\"FEN\": \"fen\"})\n",
    "# df.to_csv(\"mate_in_2_simple.csv\", index=False)"
   ]
  }
 ],
 "metadata": {
  "kernelspec": {
   "display_name": "Python 3 (ipykernel)",
   "language": "python",
   "name": "python3"
  },
  "language_info": {
   "codemirror_mode": {
    "name": "ipython",
    "version": 3
   },
   "file_extension": ".py",
   "mimetype": "text/x-python",
   "name": "python",
   "nbconvert_exporter": "python",
   "pygments_lexer": "ipython3",
   "version": "3.10.11"
  }
 },
 "nbformat": 4,
 "nbformat_minor": 5
}
