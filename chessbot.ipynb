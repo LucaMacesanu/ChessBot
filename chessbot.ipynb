{
 "cells": [
  {
   "cell_type": "markdown",
   "id": "1aad4a87-005f-4023-8f41-66e32a9b2ccb",
   "metadata": {},
   "source": [
    "## Model\n",
    "Neurips Paper about ConvLSTM: https://proceedings.neurips.cc/paper_files/paper/2015/file/07563a3fe3bbe7e3ba84431ad9d055af-Paper.pdf"
   ]
  },
  {
   "cell_type": "code",
   "execution_count": 1,
   "id": "7054d322-624e-41ef-85bd-6ccb87a83fa4",
   "metadata": {},
   "outputs": [],
   "source": [
    "import torch\n",
    "import numpy as np\n",
    "import chess\n",
    "import chess.pgn\n",
    "import chess.engine\n",
    "import torch.nn as nn\n",
    "\n",
    "# --- FEN to Tensor Encoding (12 channels: piece type x color) ---\n",
    "piece_to_plane = {\n",
    "    'P': 0, 'N': 1, 'B': 2, 'R': 3, 'Q': 4, 'K': 5,\n",
    "    'p': 6, 'n': 7, 'b': 8, 'r': 9, 'q': 10, 'k': 11\n",
    "}\n",
    "\n",
    "def fen_to_tensor(fen):\n",
    "    board = chess.Board(fen)\n",
    "    tensor = np.zeros((12, 8, 8), dtype=np.float32)\n",
    "    for square in chess.SQUARES:\n",
    "        piece = board.piece_at(square)\n",
    "        if piece:\n",
    "            row = 7 - (square // 8)  # flip vertically to match tensor layout\n",
    "            col = square % 8\n",
    "            tensor[piece_to_plane[piece.symbol()], row, col] = 1.0\n",
    "    return torch.tensor(tensor, dtype=torch.float32)\n",
    "\n",
    "# --- Simple Feedforward Model ---\n",
    "class TwoMoveMateSolver(nn.Module):\n",
    "    def __init__(self):\n",
    "        super().__init__()\n",
    "        self.flatten = nn.Flatten()                       # 12x8x8 → 768\n",
    "        self.fc1 = nn.Linear(768, 1024)\n",
    "        self.fc2 = nn.Linear(1024, 512)\n",
    "        self.output = nn.Linear(512, 4 * 64)              # 4 softmax heads over 64 squares\n",
    "\n",
    "    def forward(self, x):\n",
    "        x = self.flatten(x)           # [B, 768]\n",
    "        x = F.relu(self.fc1(x))       # [B, 1024]\n",
    "        x = F.relu(self.fc2(x))       # [B, 512]\n",
    "        x = self.output(x)            # [B, 256]\n",
    "        x = x.view(-1, 4, 64)         # [B, 4 moves, 64-square choices]\n",
    "        return x\n"
   ]
  },
  {
   "cell_type": "code",
   "execution_count": 2,
   "id": "fad8d73c-ef46-4094-9432-fce089a72758",
   "metadata": {},
   "outputs": [],
   "source": [
    "import torch\n",
    "import torch.nn as nn\n",
    "\n",
    "class ConvLSTMCell(nn.Module):\n",
    "    def __init__(self, input_dim, hidden_dim, kernel_size, bias=True):\n",
    "        super().__init__()\n",
    "        padding = kernel_size // 2\n",
    "        self.conv = nn.Conv2d(\n",
    "            in_channels=input_dim + hidden_dim,\n",
    "            out_channels=4 * hidden_dim,\n",
    "            kernel_size=kernel_size,\n",
    "            padding=padding,\n",
    "            bias=bias\n",
    "        )\n",
    "        self.hidden_dim = hidden_dim\n",
    "\n",
    "    def forward(self, x, hidden):\n",
    "        h_prev, c_prev = hidden\n",
    "        combined = torch.cat([x, h_prev], dim=1)\n",
    "        conv_output = self.conv(combined)\n",
    "        cc_i, cc_f, cc_o, cc_g = torch.split(conv_output, self.hidden_dim, dim=1)\n",
    "        i = torch.sigmoid(cc_i)\n",
    "        f = torch.sigmoid(cc_f)\n",
    "        o = torch.sigmoid(cc_o)\n",
    "        g = torch.tanh(cc_g)\n",
    "        c_next = f * c_prev + i * g\n",
    "        h_next = o * torch.tanh(c_next)\n",
    "        return h_next, c_next\n",
    "\n",
    "class ConvLSTM(nn.Module):\n",
    "    def __init__(self, input_dim, hidden_dim, kernel_size, num_layers):\n",
    "        super().__init__()\n",
    "        self.layers = nn.ModuleList()\n",
    "        for i in range(num_layers):\n",
    "            in_dim = input_dim if i == 0 else hidden_dim\n",
    "            self.layers.append(ConvLSTMCell(in_dim, hidden_dim, kernel_size))\n",
    "        self.hidden_dim = hidden_dim\n",
    "        self.num_layers = num_layers\n",
    "\n",
    "    def forward(self, x):\n",
    "        batch_size, seq_len, _, height, width = x.size()\n",
    "        h = [torch.zeros(batch_size, self.hidden_dim, height, width, device=x.device) for _ in range(self.num_layers)]\n",
    "        c = [torch.zeros(batch_size, self.hidden_dim, height, width, device=x.device) for _ in range(self.num_layers)]\n",
    "\n",
    "        outputs = []\n",
    "        for t in range(seq_len):\n",
    "            input_t = x[:, t]\n",
    "            for i, layer in enumerate(self.layers):\n",
    "                h[i], c[i] = layer(input_t, (h[i], c[i]))\n",
    "                input_t = h[i]\n",
    "            outputs.append(h[-1])  # only final layer output\n",
    "\n",
    "        return torch.stack(outputs, dim=1)  # shape: [B, T, C, H, W]\n",
    "\n",
    "class ChessConvLSTMNet(nn.Module):\n",
    "    def __init__(self, input_channels=12, hidden_dim=64, num_layers=2, kernel_size=3, output_dim=64, output_seq_len=4):\n",
    "        super().__init__()\n",
    "        self.output_seq_len = output_seq_len\n",
    "        self.convlstm = ConvLSTM(input_channels, hidden_dim, kernel_size, num_layers)\n",
    "        self.head = nn.Sequential(\n",
    "            nn.Flatten(start_dim=2),  # from [B, T, C, 8, 8] to [B, T, C*8*8]\n",
    "            nn.Linear(hidden_dim * 8 * 8, 512),\n",
    "            nn.ReLU(),\n",
    "            nn.Linear(512, output_dim)\n",
    "        )\n",
    "\n",
    "    def forward(self, x):\n",
    "        # x: [B, T, C, 8, 8]\n",
    "        lstm_outputs = self.convlstm(x)  # [B, T, C, 8, 8]\n",
    "        logits = self.head(lstm_outputs)  # [B, T, output_dim]\n",
    "        return logits\n"
   ]
  },
  {
   "cell_type": "markdown",
   "id": "6c154606-ab63-40d3-96d6-da53a095e3c5",
   "metadata": {},
   "source": [
    "## Dataset"
   ]
  },
  {
   "cell_type": "code",
   "execution_count": 3,
   "id": "47775b45-4c6d-4cf8-8342-871f7614496e",
   "metadata": {},
   "outputs": [],
   "source": [
    "import torch\n",
    "import pandas as pd\n",
    "import chess\n",
    "from torch.utils.data import Dataset\n",
    "\n",
    "class TwoMoveMateDataset(Dataset):\n",
    "    def __init__(self, csv_path):\n",
    "        self.df = pd.read_csv(csv_path)\n",
    "\n",
    "    def __len__(self):\n",
    "        return len(self.df)\n",
    "\n",
    "    def __getitem__(self, idx):\n",
    "        row = self.df.iloc[idx]\n",
    "        fen = row['fen']\n",
    "        move1 = chess.Move.from_uci(row['move1'])\n",
    "        move2 = chess.Move.from_uci(row['move2'])\n",
    "\n",
    "        # Encode board state\n",
    "        input_tensor = fen_to_tensor(fen)\n",
    "\n",
    "        # Encode moves as 4 target indices: from1, to1, from2, to2\n",
    "        label = torch.tensor([\n",
    "            move1.from_square,\n",
    "            move1.to_square,\n",
    "            move2.from_square,\n",
    "            move2.to_square\n",
    "        ], dtype=torch.long)\n",
    "\n",
    "        return input_tensor, label"
   ]
  },
  {
   "cell_type": "code",
   "execution_count": 4,
   "id": "300d0bb7-14dd-4932-9075-5bd68108bf29",
   "metadata": {},
   "outputs": [],
   "source": [
    "class TwoMoveMateDatasetLSTM(Dataset):\n",
    "    def __init__(self, csv_path):\n",
    "        self.df = pd.read_csv(csv_path)\n",
    "\n",
    "    def __len__(self):\n",
    "        return len(self.df)\n",
    "\n",
    "    def __getitem__(self, idx):\n",
    "        row = self.df.iloc[idx]\n",
    "        fen = row['fen']\n",
    "        move1 = chess.Move.from_uci(row['move1'])\n",
    "        move2 = chess.Move.from_uci(row['move2'])\n",
    "\n",
    "        # You need two board states as input:\n",
    "        # 1. Original position\n",
    "        # 2. After move1 is played\n",
    "\n",
    "        board1 = chess.Board(fen)\n",
    "        input1 = fen_to_tensor(board1.fen())\n",
    "\n",
    "        board1.push(move1)\n",
    "        input2 = fen_to_tensor(board1.fen())\n",
    "\n",
    "        # Stack into a sequence: [2, C, 8, 8]\n",
    "        input_seq = torch.stack([input1, input2], dim=0)  # [2, C, 8, 8]\n",
    "\n",
    "        # Encode labels: [2] for two destination squares (or [2, 64] if you use from-to)\n",
    "        label = torch.tensor([\n",
    "            move1.to_square,\n",
    "            move2.to_square\n",
    "        ], dtype=torch.long)\n",
    "\n",
    "        return input_seq, label\n"
   ]
  },
  {
   "cell_type": "markdown",
   "id": "b86515b1-3388-4009-9971-2a4f654df227",
   "metadata": {},
   "source": [
    "## Train"
   ]
  },
  {
   "cell_type": "code",
   "execution_count": 5,
   "id": "1b91e4a4-80ea-49dd-b26e-8130ea95fd7e",
   "metadata": {},
   "outputs": [],
   "source": [
    "# --- Hyperparameters\n",
    "batch_size = 64\n",
    "epochs = 10\n",
    "lr = 1e-3"
   ]
  },
  {
   "cell_type": "code",
   "execution_count": 6,
   "id": "f819f61a-f02d-4944-b6ae-ff8d1f5c4f06",
   "metadata": {},
   "outputs": [],
   "source": [
    "# --- Data\n",
    "# from torch.utils.data import DataLoader\n",
    "\n",
    "# # dataset = TwoMoveMateDataset('mate_in_2_simple.csv')\n",
    "# dataset = TwoMoveMateDatasetLSTM('mate_in_2_simple.csv')\n",
    "# loader = DataLoader(dataset, batch_size=batch_size, shuffle=True)\n",
    "\n",
    "from torch.utils.data import random_split, DataLoader\n",
    "\n",
    "# Load full dataset\n",
    "dataset = TwoMoveMateDatasetLSTM(\"mate_in_2_simple.csv\")\n",
    "\n",
    "# 80-20 split\n",
    "total_size = len(dataset)\n",
    "train_size = int(0.8 * total_size)\n",
    "test_size = total_size - train_size\n",
    "train_dataset, test_dataset = random_split(dataset, [train_size, test_size])\n",
    "\n",
    "# Create data loaders\n",
    "train_loader = DataLoader(train_dataset, batch_size=32, shuffle=True)\n",
    "test_loader = DataLoader(test_dataset, batch_size=32, shuffle=False)"
   ]
  },
  {
   "cell_type": "code",
   "execution_count": 12,
   "id": "15d1612e-24d6-4837-a9a4-cc5341f5f554",
   "metadata": {},
   "outputs": [],
   "source": [
    "# --- Model and training setup\n",
    "import glob\n",
    "import os\n",
    "device = torch.device('cuda' if torch.cuda.is_available() else 'cpu')\n",
    "# model = TwoMoveMateSolver().to(device)\n",
    "model = ChessConvLSTMNet().to(device)\n",
    "\n",
    "# checkpoint_files = glob.glob(\"convlstm_model_epoch*.pt\")\n",
    "# if checkpoint_files:\n",
    "#     latest_checkpoint = max(checkpoint_files, key=os.path.getmtime)\n",
    "    \n",
    "#     model.load_state_dict(torch.load(latest_checkpoint, map_location=device))\n",
    "#     print(f\"Loaded model from {latest_checkpoint}\")\n",
    "# else:\n",
    "#     print(\"No model checkpoint found, starting from scratch.\")\n",
    "\n",
    "\n",
    "optimizer = torch.optim.Adam(model.parameters(), lr=lr)\n",
    "criterion = torch.nn.CrossEntropyLoss()"
   ]
  },
  {
   "cell_type": "code",
   "execution_count": 13,
   "id": "48206491-d425-4bb0-a23e-194b241aa4d6",
   "metadata": {},
   "outputs": [
    {
     "name": "stderr",
     "output_type": "stream",
     "text": [
      "Epoch 1 [Train]: 100%|█████████████████████████████████████████████████████████████| 7274/7274 [07:17<00:00, 16.64it/s]\n",
      "Epoch 1 [Test]: 100%|██████████████████████████████████████████████████████████████| 1819/1819 [01:24<00:00, 21.64it/s]\n"
     ]
    },
    {
     "name": "stdout",
     "output_type": "stream",
     "text": [
      "Epoch 1 | Train Loss: 3.3528, Acc: 0.5462 | Test Loss: 2.4946, Acc: 0.6532\n"
     ]
    },
    {
     "name": "stderr",
     "output_type": "stream",
     "text": [
      "Epoch 2 [Train]: 100%|█████████████████████████████████████████████████████████████| 7274/7274 [07:04<00:00, 17.13it/s]\n",
      "Epoch 2 [Test]: 100%|██████████████████████████████████████████████████████████████| 1819/1819 [01:23<00:00, 21.90it/s]\n"
     ]
    },
    {
     "name": "stdout",
     "output_type": "stream",
     "text": [
      "Epoch 2 | Train Loss: 2.1560, Acc: 0.6965 | Test Loss: 2.2422, Acc: 0.6867\n"
     ]
    },
    {
     "name": "stderr",
     "output_type": "stream",
     "text": [
      "Epoch 3 [Train]: 100%|█████████████████████████████████████████████████████████████| 7274/7274 [07:07<00:00, 17.03it/s]\n",
      "Epoch 3 [Test]: 100%|██████████████████████████████████████████████████████████████| 1819/1819 [01:23<00:00, 21.84it/s]\n"
     ]
    },
    {
     "name": "stdout",
     "output_type": "stream",
     "text": [
      "Epoch 3 | Train Loss: 1.7118, Acc: 0.7529 | Test Loss: 2.2201, Acc: 0.6956\n"
     ]
    },
    {
     "name": "stderr",
     "output_type": "stream",
     "text": [
      "Epoch 4 [Train]: 100%|█████████████████████████████████████████████████████████████| 7274/7274 [07:10<00:00, 16.90it/s]\n",
      "Epoch 4 [Test]: 100%|██████████████████████████████████████████████████████████████| 1819/1819 [01:23<00:00, 21.81it/s]\n"
     ]
    },
    {
     "name": "stdout",
     "output_type": "stream",
     "text": [
      "Epoch 4 | Train Loss: 1.3515, Acc: 0.8001 | Test Loss: 2.3663, Acc: 0.6949\n"
     ]
    },
    {
     "name": "stderr",
     "output_type": "stream",
     "text": [
      "Epoch 5 [Train]: 100%|█████████████████████████████████████████████████████████████| 7274/7274 [07:11<00:00, 16.85it/s]\n",
      "Epoch 5 [Test]: 100%|██████████████████████████████████████████████████████████████| 1819/1819 [01:22<00:00, 22.01it/s]\n"
     ]
    },
    {
     "name": "stdout",
     "output_type": "stream",
     "text": [
      "Epoch 5 | Train Loss: 1.0402, Acc: 0.8432 | Test Loss: 2.6082, Acc: 0.6889\n"
     ]
    },
    {
     "name": "stderr",
     "output_type": "stream",
     "text": [
      "Epoch 6 [Train]: 100%|█████████████████████████████████████████████████████████████| 7274/7274 [07:08<00:00, 16.99it/s]\n",
      "Epoch 6 [Test]: 100%|██████████████████████████████████████████████████████████████| 1819/1819 [01:21<00:00, 22.25it/s]\n"
     ]
    },
    {
     "name": "stdout",
     "output_type": "stream",
     "text": [
      "Epoch 6 | Train Loss: 0.7801, Acc: 0.8790 | Test Loss: 2.9824, Acc: 0.6838\n"
     ]
    },
    {
     "name": "stderr",
     "output_type": "stream",
     "text": [
      "Epoch 7 [Train]: 100%|█████████████████████████████████████████████████████████████| 7274/7274 [07:32<00:00, 16.07it/s]\n",
      "Epoch 7 [Test]: 100%|██████████████████████████████████████████████████████████████| 1819/1819 [01:28<00:00, 20.61it/s]\n"
     ]
    },
    {
     "name": "stdout",
     "output_type": "stream",
     "text": [
      "Epoch 7 | Train Loss: 0.5700, Acc: 0.9096 | Test Loss: 3.4158, Acc: 0.6768\n"
     ]
    },
    {
     "name": "stderr",
     "output_type": "stream",
     "text": [
      "Epoch 8 [Train]: 100%|█████████████████████████████████████████████████████████████| 7274/7274 [08:18<00:00, 14.59it/s]\n",
      "Epoch 8 [Test]: 100%|██████████████████████████████████████████████████████████████| 1819/1819 [01:27<00:00, 20.77it/s]\n"
     ]
    },
    {
     "name": "stdout",
     "output_type": "stream",
     "text": [
      "Epoch 8 | Train Loss: 0.4245, Acc: 0.9311 | Test Loss: 3.9058, Acc: 0.6731\n"
     ]
    },
    {
     "name": "stderr",
     "output_type": "stream",
     "text": [
      "Epoch 9 [Train]: 100%|█████████████████████████████████████████████████████████████| 7274/7274 [06:41<00:00, 18.13it/s]\n",
      "Epoch 9 [Test]: 100%|██████████████████████████████████████████████████████████████| 1819/1819 [01:24<00:00, 21.44it/s]\n"
     ]
    },
    {
     "name": "stdout",
     "output_type": "stream",
     "text": [
      "Epoch 9 | Train Loss: 0.3317, Acc: 0.9451 | Test Loss: 4.3278, Acc: 0.6725\n"
     ]
    },
    {
     "name": "stderr",
     "output_type": "stream",
     "text": [
      "Epoch 10 [Train]: 100%|████████████████████████████████████████████████████████████| 7274/7274 [06:13<00:00, 19.48it/s]\n",
      "Epoch 10 [Test]: 100%|█████████████████████████████████████████████████████████████| 1819/1819 [01:20<00:00, 22.57it/s]"
     ]
    },
    {
     "name": "stdout",
     "output_type": "stream",
     "text": [
      "Epoch 10 | Train Loss: 0.2784, Acc: 0.9540 | Test Loss: 4.5506, Acc: 0.6712\n"
     ]
    },
    {
     "name": "stderr",
     "output_type": "stream",
     "text": [
      "\n"
     ]
    }
   ],
   "source": [
    "from tqdm import tqdm\n",
    "start_epoch = 0\n",
    "total_epochs = 10\n",
    "train_acc_list = []\n",
    "test_acc_list = []\n",
    "for epoch in range(start_epoch, total_epochs):\n",
    "    # ---- Training ----\n",
    "    model.train()\n",
    "    total_loss = 0\n",
    "    correct_moves = 0\n",
    "    total_moves = 0\n",
    "\n",
    "    for inputs, labels in tqdm(train_loader, desc=f\"Epoch {epoch + 1} [Train]\"):\n",
    "        inputs = inputs.to(device)\n",
    "        labels = labels.to(device)\n",
    "\n",
    "        optimizer.zero_grad()\n",
    "        outputs = model(inputs)\n",
    "\n",
    "        loss = 0\n",
    "        for i in range(2):\n",
    "            loss += criterion(outputs[:, i, :], labels[:, i])\n",
    "            preds = outputs[:, i, :].argmax(dim=1)\n",
    "            correct_moves += (preds == labels[:, i]).sum().item()\n",
    "            total_moves += labels.size(0)\n",
    "\n",
    "        loss.backward()\n",
    "        optimizer.step()\n",
    "        total_loss += loss.item()\n",
    "\n",
    "    train_loss = total_loss / len(train_loader)\n",
    "    train_acc = correct_moves / total_moves\n",
    "\n",
    "    # ---- Evaluation ----\n",
    "    model.eval()\n",
    "    test_loss = 0\n",
    "    test_correct = 0\n",
    "    test_total = 0\n",
    "\n",
    "    with torch.no_grad():\n",
    "        for inputs, labels in tqdm(test_loader, desc=f\"Epoch {epoch + 1} [Test]\"):\n",
    "            inputs = inputs.to(device)\n",
    "            labels = labels.to(device)\n",
    "            outputs = model(inputs)\n",
    "\n",
    "            for i in range(2):\n",
    "                test_loss += criterion(outputs[:, i, :], labels[:, i]).item()\n",
    "                preds = outputs[:, i, :].argmax(dim=1)\n",
    "                test_correct += (preds == labels[:, i]).sum().item()\n",
    "                test_total += labels.size(0)\n",
    "\n",
    "    test_loss /= len(test_loader)\n",
    "    test_acc = test_correct / test_total\n",
    "\n",
    "    print(f\"Epoch {epoch + 1} | Train Loss: {train_loss:.4f}, Acc: {train_acc:.4f} | \"\n",
    "          f\"Test Loss: {test_loss:.4f}, Acc: {test_acc:.4f}\")\n",
    "\n",
    "    torch.save(model.state_dict(), f\"convlstm_model_epoch{epoch}.pt\")\n",
    "\n",
    "\n",
    "    # After each epoch\n",
    "    train_acc_list.append(train_acc)\n",
    "    test_acc_list.append(test_acc)\n",
    "\n"
   ]
  },
  {
   "cell_type": "markdown",
   "id": "58e5893d-2bc2-4b55-a8e8-998dedabef69",
   "metadata": {},
   "source": [
    "## Visualizing Performance"
   ]
  },
  {
   "cell_type": "code",
   "execution_count": 14,
   "id": "f47a8427-5925-4f7a-b12c-c58e366e856a",
   "metadata": {},
   "outputs": [
    {
     "data": {
      "image/png": "[encoded data removed]",
      "text/plain": [
       "<Figure size 1000x600 with 1 Axes>"
      ]
     },
     "metadata": {},
     "output_type": "display_data"
    }
   ],
   "source": [
    "import matplotlib.pyplot as plt\n",
    "\n",
    "epochs = list(range(start_epoch + 1, start_epoch + 1 + len(train_acc_list)))\n",
    "plt.figure(figsize=(10, 6))\n",
    "plt.plot(epochs, train_acc_list, label=\"Train Accuracy\", marker='o')\n",
    "plt.plot(epochs, test_acc_list, label=\"Test Accuracy\", marker='s')\n",
    "plt.xlabel(\"Epoch\")\n",
    "plt.ylabel(\"Accuracy\")\n",
    "plt.title(\"Training vs Test Accuracy Over Time\")\n",
    "plt.legend()\n",
    "plt.grid(True)\n",
    "plt.show()"
   ]
  },
  {
   "cell_type": "code",
   "execution_count": 21,
   "id": "e61a2c8c-f267-4acc-993b-7368a89c5910",
   "metadata": {},
   "outputs": [],
   "source": [
    "## Old code for the naive approach\n",
    "# for epoch in range(epochs):\n",
    "#     model.train()\n",
    "#     total_loss = 0\n",
    "#     correct_moves = 0\n",
    "#     total_moves = 0\n",
    "\n",
    "#     for inputs, labels in loader:\n",
    "#         inputs = inputs.to(device)\n",
    "#         labels = labels.to(device)\n",
    "\n",
    "#         optimizer.zero_grad()\n",
    "#         output = model(inputs)  # shape: [B, 4, 64]\n",
    "\n",
    "#         loss = 0\n",
    "#         for i in range(4):\n",
    "#             loss += criterion(output[:, i, :], labels[:, i])\n",
    "#             preds = output[:, i, :].argmax(dim=1)\n",
    "#             correct_moves += (preds == labels[:, i]).sum().item()\n",
    "#             total_moves += labels.size(0)\n",
    "\n",
    "#         loss.backward()\n",
    "#         optimizer.step()\n",
    "#         total_loss += loss.item()\n",
    "\n",
    "#     avg_loss = total_loss / len(loader)\n",
    "#     accuracy = correct_moves / (total_moves)\n",
    "#     print(f\"Epoch {epoch+1} | Loss: {avg_loss:.4f} | Accuracy: {accuracy:.4f}\")\n",
    "#     torch.save(model.state_dict(), f\"convlstm_model_{epoch}.pt\")\n",
    "#     print(f\"Model saved as 'convlstm_model_{epoch}.pt'\")"
   ]
  },
  {
   "cell_type": "markdown",
   "id": "1409ebce-7ac9-4689-b476-671160914df2",
   "metadata": {},
   "source": [
    "## Convert to just Mate in 2 csv"
   ]
  },
  {
   "cell_type": "code",
   "execution_count": 27,
   "id": "63fb2664-c4d1-4b03-ba07-fa5cb02c78ca",
   "metadata": {},
   "outputs": [],
   "source": [
    "# Load the Lichess puzzle CSV (decompressed)\n",
    "# df = pd.read_csv(\"lichess_db_puzzle.csv\", low_memory=False)\n",
    "\n",
    "# # Step 1: Filter for mate-in-2 puzzles\n",
    "# df = df[df[\"Themes\"].str.contains(\"mateIn2\", na=False)]\n",
    "\n",
    "# # Step 2: Keep only puzzles where White moves first\n",
    "# df = df[df[\"FEN\"].str.split().str[1] == \"w\"]\n",
    "\n",
    "# # Step 3: Get player's first and second moves (0 and 2)\n",
    "# df[\"move_list\"] = df[\"Moves\"].str.split()\n",
    "# df = df[df[\"move_list\"].str.len() >= 3]\n",
    "# df[\"move1\"] = df[\"move_list\"].apply(lambda m: m[0])\n",
    "# df[\"move2\"] = df[\"move_list\"].apply(lambda m: m[2])\n",
    "\n",
    "# # Step 4: Save just the FEN and two moves\n",
    "# df = df[[\"FEN\", \"move1\", \"move2\"]].rename(columns={\"FEN\": \"fen\"})\n",
    "# df.to_csv(\"mate_in_2_simple.csv\", index=False)"
   ]
  }
 ],
 "metadata": {
  "kernelspec": {
   "display_name": "Python 3 (ipykernel)",
   "language": "python",
   "name": "python3"
  },
  "language_info": {
   "codemirror_mode": {
    "name": "ipython",
    "version": 3
   },
   "file_extension": ".py",
   "mimetype": "text/x-python",
   "name": "python",
   "nbconvert_exporter": "python",
   "pygments_lexer": "ipython3",
   "version": "3.10.11"
  }
 },
 "nbformat": 4,
 "nbformat_minor": 5
}
